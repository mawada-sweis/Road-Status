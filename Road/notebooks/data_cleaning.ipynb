{
 "cells": [
  {
   "attachments": {},
   "cell_type": "markdown",
   "metadata": {},
   "source": [
    "## Data Cleaning"
   ]
  },
  {
   "cell_type": "code",
   "execution_count": 1,
   "metadata": {},
   "outputs": [],
   "source": [
    "# import needed libraries\n",
    "import pandas as pd \n",
    "\n",
    "# Local imports\n",
    "# from source.constants import PUNCT_TO_REMOVE\n",
    "import sys\n",
    "import os\n",
    "target = os.path.abspath(os.path.abspath(''))\n",
    "while(target.split(\"\\\\\")[-1]!=\"Road\"):\n",
    "    target = os.path.dirname(target)\n",
    "sys.path.append(target)\n",
    "from source.features import data_cleaning as DC"
   ]
  },
  {
   "cell_type": "code",
   "execution_count": 3,
   "metadata": {},
   "outputs": [],
   "source": [
    "# read data\n",
    "data = pd.read_csv(\"../data/interim/feature_selected.csv\")"
   ]
  },
  {
   "cell_type": "code",
   "execution_count": 4,
   "metadata": {},
   "outputs": [
    {
     "data": {
      "text/plain": [
       "(17306, 10)"
      ]
     },
     "execution_count": 4,
     "metadata": {},
     "output_type": "execute_result"
    }
   ],
   "source": [
    "data.shape"
   ]
  },
  {
   "cell_type": "code",
   "execution_count": 5,
   "metadata": {},
   "outputs": [
    {
     "data": {
      "text/html": [
       "<div>\n",
       "<style scoped>\n",
       "    .dataframe tbody tr th:only-of-type {\n",
       "        vertical-align: middle;\n",
       "    }\n",
       "\n",
       "    .dataframe tbody tr th {\n",
       "        vertical-align: top;\n",
       "    }\n",
       "\n",
       "    .dataframe thead th {\n",
       "        text-align: right;\n",
       "    }\n",
       "</style>\n",
       "<table border=\"1\" class=\"dataframe\">\n",
       "  <thead>\n",
       "    <tr style=\"text-align: right;\">\n",
       "      <th></th>\n",
       "      <th>id</th>\n",
       "      <th>message</th>\n",
       "      <th>from_id</th>\n",
       "      <th>reply_to</th>\n",
       "      <th>year</th>\n",
       "      <th>month</th>\n",
       "      <th>day</th>\n",
       "      <th>hour</th>\n",
       "      <th>minute</th>\n",
       "      <th>second</th>\n",
       "    </tr>\n",
       "  </thead>\n",
       "  <tbody>\n",
       "    <tr>\n",
       "      <th>0</th>\n",
       "      <td>409414</td>\n",
       "      <td>.</td>\n",
       "      <td>5774169366</td>\n",
       "      <td>-1</td>\n",
       "      <td>2023</td>\n",
       "      <td>3</td>\n",
       "      <td>7</td>\n",
       "      <td>13</td>\n",
       "      <td>48</td>\n",
       "      <td>25</td>\n",
       "    </tr>\n",
       "    <tr>\n",
       "      <th>1</th>\n",
       "      <td>409427</td>\n",
       "      <td>حواره للخارج من نابلس ؟</td>\n",
       "      <td>325418964</td>\n",
       "      <td>-1</td>\n",
       "      <td>2023</td>\n",
       "      <td>3</td>\n",
       "      <td>7</td>\n",
       "      <td>13</td>\n",
       "      <td>50</td>\n",
       "      <td>2</td>\n",
       "    </tr>\n",
       "    <tr>\n",
       "      <th>2</th>\n",
       "      <td>409428</td>\n",
       "      <td>سالك سالك</td>\n",
       "      <td>1827882971</td>\n",
       "      <td>409427</td>\n",
       "      <td>2023</td>\n",
       "      <td>3</td>\n",
       "      <td>7</td>\n",
       "      <td>13</td>\n",
       "      <td>50</td>\n",
       "      <td>9</td>\n",
       "    </tr>\n",
       "    <tr>\n",
       "      <th>3</th>\n",
       "      <td>409429</td>\n",
       "      <td>حوارة في عليها مستوطنين</td>\n",
       "      <td>5633332941</td>\n",
       "      <td>-1</td>\n",
       "      <td>2023</td>\n",
       "      <td>3</td>\n",
       "      <td>7</td>\n",
       "      <td>13</td>\n",
       "      <td>50</td>\n",
       "      <td>18</td>\n",
       "    </tr>\n",
       "    <tr>\n",
       "      <th>4</th>\n",
       "      <td>409430</td>\n",
       "      <td>وين</td>\n",
       "      <td>1332172310</td>\n",
       "      <td>409429</td>\n",
       "      <td>2023</td>\n",
       "      <td>3</td>\n",
       "      <td>7</td>\n",
       "      <td>13</td>\n",
       "      <td>50</td>\n",
       "      <td>26</td>\n",
       "    </tr>\n",
       "  </tbody>\n",
       "</table>\n",
       "</div>"
      ],
      "text/plain": [
       "       id                  message     from_id  reply_to  year  month  day  \\\n",
       "0  409414                        .  5774169366        -1  2023      3    7   \n",
       "1  409427  حواره للخارج من نابلس ؟   325418964        -1  2023      3    7   \n",
       "2  409428                سالك سالك  1827882971    409427  2023      3    7   \n",
       "3  409429  حوارة في عليها مستوطنين  5633332941        -1  2023      3    7   \n",
       "4  409430                      وين  1332172310    409429  2023      3    7   \n",
       "\n",
       "   hour  minute  second  \n",
       "0    13      48      25  \n",
       "1    13      50       2  \n",
       "2    13      50       9  \n",
       "3    13      50      18  \n",
       "4    13      50      26  "
      ]
     },
     "execution_count": 5,
     "metadata": {},
     "output_type": "execute_result"
    }
   ],
   "source": [
    "data.head()"
   ]
  },
  {
   "attachments": {},
   "cell_type": "markdown",
   "metadata": {},
   "source": [
    "### Remove Arabic diacritics"
   ]
  },
  {
   "cell_type": "code",
   "execution_count": 24,
   "metadata": {},
   "outputs": [
    {
     "data": {
      "text/plain": [
       "'✌️!فليمسي وطني حرا، فليرحل محتلي فلريحل'"
      ]
     },
     "execution_count": 24,
     "metadata": {},
     "output_type": "execute_result"
    }
   ],
   "source": [
    "DC.remove_diacritics(\"✌️!فليمسي وطني حُراً، فليرحل مُحتلي فلريحل\")"
   ]
  },
  {
   "attachments": {},
   "cell_type": "markdown",
   "metadata": {},
   "source": [
    "### Convert Emojis and Emoticons"
   ]
  },
  {
   "cell_type": "code",
   "execution_count": 25,
   "metadata": {},
   "outputs": [
    {
     "data": {
      "text/plain": [
       "':victory_hand:!فليمسي وطني حُراً، فليرحل مُحتلي فلريحل'"
      ]
     },
     "execution_count": 25,
     "metadata": {},
     "output_type": "execute_result"
    }
   ],
   "source": [
    "DC.convert_emojis(\"✌️!فليمسي وطني حُراً، فليرحل مُحتلي فلريحل\")"
   ]
  },
  {
   "cell_type": "code",
   "execution_count": 30,
   "metadata": {},
   "outputs": [
    {
     "data": {
      "text/plain": [
       "' Joyful ✌️!فليمسي وطني حُراً، فليرحل مُحتلي فلريحل'"
      ]
     },
     "execution_count": 30,
     "metadata": {},
     "output_type": "execute_result"
    }
   ],
   "source": [
    "DC.convert_emoticons(\" ^_^ ✌️!فليمسي وطني حُراً، فليرحل مُحتلي فلريحل\")"
   ]
  },
  {
   "attachments": {},
   "cell_type": "markdown",
   "metadata": {},
   "source": [
    "### Remove links"
   ]
  },
  {
   "cell_type": "code",
   "execution_count": 23,
   "metadata": {},
   "outputs": [
    {
     "data": {
      "text/plain": [
       "'تابعنا على الرابط التالي:  '"
      ]
     },
     "execution_count": 23,
     "metadata": {},
     "output_type": "execute_result"
    }
   ],
   "source": [
    "DC.remove_urls(\"تابعنا على الرابط التالي:  https://freePalestine.com\")"
   ]
  },
  {
   "attachments": {},
   "cell_type": "markdown",
   "metadata": {},
   "source": [
    "### Remove Phone Numbers"
   ]
  },
  {
   "cell_type": "code",
   "execution_count": 17,
   "metadata": {},
   "outputs": [
    {
     "data": {
      "text/plain": [
       "'أهلا, رقمي . ارقام اخرى:  أو .'"
      ]
     },
     "execution_count": 17,
     "metadata": {},
     "output_type": "execute_result"
    }
   ],
   "source": [
    "DC.remove_phone_numbers(\"أهلا, رقمي +971-551234567. ارقام اخرى: 00971551234567 أو 0551234567.\")"
   ]
  },
  {
   "attachments": {},
   "cell_type": "markdown",
   "metadata": {},
   "source": [
    "### Remove Punctuations"
   ]
  },
  {
   "cell_type": "code",
   "execution_count": 27,
   "metadata": {},
   "outputs": [
    {
     "data": {
      "text/plain": [
       "'✌️فليمسي وطني حُراً فليرحل مُحتلي فلريحل'"
      ]
     },
     "execution_count": 27,
     "metadata": {},
     "output_type": "execute_result"
    }
   ],
   "source": [
    "DC.remove_punctuations(\"✌️!فليمسي وطني حُراً، فليرحل مُحتلي فلريحل\")"
   ]
  },
  {
   "attachments": {},
   "cell_type": "markdown",
   "metadata": {},
   "source": [
    "### Remove MultiMedia"
   ]
  },
  {
   "cell_type": "code",
   "execution_count": 31,
   "metadata": {},
   "outputs": [
    {
     "data": {
      "text/plain": [
       "''"
      ]
     },
     "execution_count": 31,
     "metadata": {},
     "output_type": "execute_result"
    }
   ],
   "source": [
    "DC.remove_multimedia(\"https://thisshouldbeapic\") "
   ]
  },
  {
   "attachments": {},
   "cell_type": "markdown",
   "metadata": {},
   "source": [
    "### Apply the cleaning process to the messages. and delete empty messages from the df"
   ]
  },
  {
   "cell_type": "code",
   "execution_count": 13,
   "metadata": {},
   "outputs": [],
   "source": [
    "for i, row in data.iterrows():\n",
    "    if isinstance(row[\"message\"], float):  # check if value is float\n",
    "        data.at[i, \"message\"] = \"\"  # convert float to empty string\n",
    "    else:\n",
    "        text = row[\"message\"]\n",
    "        # apply cleaning functions to the text\n",
    "        text = DC.remove_diacritics(text)\n",
    "        text = DC.convert_emojis(text)\n",
    "        text = DC.convert_emoticons(text)\n",
    "        text = DC.remove_urls(text)\n",
    "        text = DC.remove_phone_numbers(text)\n",
    "        text = DC.remove_punctuations(text)\n",
    "        text = DC.remove_multimedia(text)\n",
    "        if text == \"\":  # check if cleaned text is empty\n",
    "            data = data.drop(i)  # delete row if cleaned text is empty\n",
    "        else:\n",
    "            data.at[i, \"message\"] = text  # store the cleaned text back in the dataframe"
   ]
  },
  {
   "cell_type": "code",
   "execution_count": 14,
   "metadata": {},
   "outputs": [
    {
     "data": {
      "text/plain": [
       "1             حواره للخارج من نابلس \n",
       "2                          سالك سالك\n",
       "3            حوارة في عليها مستوطنين\n",
       "4                                وين\n",
       "5        كيف طريق من طوباس لرام الله\n",
       "                    ...             \n",
       "17301                   كيف طريق صرة\n",
       "17302                  و دوار كدوميم\n",
       "17303                     شو وضع dso\n",
       "17304                  جيت صرة سالكة\n",
       "17305                 واد قانا سالك \n",
       "Name: message, Length: 16880, dtype: object"
      ]
     },
     "execution_count": 14,
     "metadata": {},
     "output_type": "execute_result"
    }
   ],
   "source": [
    "data[\"message\"]"
   ]
  },
  {
   "cell_type": "code",
   "execution_count": 15,
   "metadata": {},
   "outputs": [
    {
     "data": {
      "text/plain": [
       "(16880, 10)"
      ]
     },
     "execution_count": 15,
     "metadata": {},
     "output_type": "execute_result"
    }
   ],
   "source": [
    "data.shape"
   ]
  },
  {
   "cell_type": "code",
   "execution_count": null,
   "metadata": {},
   "outputs": [],
   "source": []
  }
 ],
 "metadata": {
  "kernelspec": {
   "display_name": "Python 3",
   "language": "python",
   "name": "python3"
  },
  "language_info": {
   "codemirror_mode": {
    "name": "ipython",
    "version": 3
   },
   "file_extension": ".py",
   "mimetype": "text/x-python",
   "name": "python",
   "nbconvert_exporter": "python",
   "pygments_lexer": "ipython3",
   "version": "3.10.10"
  },
  "orig_nbformat": 4
 },
 "nbformat": 4,
 "nbformat_minor": 2
}
