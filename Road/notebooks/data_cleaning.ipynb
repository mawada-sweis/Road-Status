{
 "cells": [
  {
   "attachments": {},
   "cell_type": "markdown",
   "metadata": {},
   "source": [
    "## Data Cleaning"
   ]
  },
  {
   "cell_type": "code",
   "execution_count": 1,
   "metadata": {},
   "outputs": [],
   "source": [
    "# import needed libraries\n",
    "import pandas as pd \n",
    "import numpy as np \n",
    "import re\n",
    "import string \n",
    "import nltk\n",
    "import spacy\n",
    "\n",
    "# To install the Arabic Model\n",
    "# !python -m spacy download xx_ent_wiki_sm\n",
    "\n",
    "# For arabic diacritics\n",
    "# pip install pyarabic \n",
    "from pyarabic.araby import strip_tashkeel, normalize_hamza\n",
    "from pyarabic.araby import is_tashkeel, is_arabicrange\n",
    "\n",
    "# For converting emojis and emot\n",
    "# pip install emoji\n",
    "import emoji\n",
    "# pip install emot\n",
    "import emot"
   ]
  },
  {
   "cell_type": "code",
   "execution_count": 2,
   "metadata": {},
   "outputs": [],
   "source": [
    "# Load the Arabic language model in spacy\n",
    "nlp = spacy.load('xx_ent_wiki_sm')"
   ]
  },
  {
   "cell_type": "code",
   "execution_count": 3,
   "metadata": {},
   "outputs": [],
   "source": [
    "# read data\n",
    "data = pd.read_csv(\"../data/interim/feature_selected.csv\")"
   ]
  },
  {
   "cell_type": "code",
   "execution_count": 4,
   "metadata": {},
   "outputs": [
    {
     "data": {
      "text/plain": [
       "(17306, 10)"
      ]
     },
     "execution_count": 4,
     "metadata": {},
     "output_type": "execute_result"
    }
   ],
   "source": [
    "data.shape"
   ]
  },
  {
   "cell_type": "code",
   "execution_count": 5,
   "metadata": {},
   "outputs": [
    {
     "data": {
      "text/html": [
       "<div>\n",
       "<style scoped>\n",
       "    .dataframe tbody tr th:only-of-type {\n",
       "        vertical-align: middle;\n",
       "    }\n",
       "\n",
       "    .dataframe tbody tr th {\n",
       "        vertical-align: top;\n",
       "    }\n",
       "\n",
       "    .dataframe thead th {\n",
       "        text-align: right;\n",
       "    }\n",
       "</style>\n",
       "<table border=\"1\" class=\"dataframe\">\n",
       "  <thead>\n",
       "    <tr style=\"text-align: right;\">\n",
       "      <th></th>\n",
       "      <th>id</th>\n",
       "      <th>message</th>\n",
       "      <th>from_id</th>\n",
       "      <th>reply_to</th>\n",
       "      <th>year</th>\n",
       "      <th>month</th>\n",
       "      <th>day</th>\n",
       "      <th>hour</th>\n",
       "      <th>minute</th>\n",
       "      <th>second</th>\n",
       "    </tr>\n",
       "  </thead>\n",
       "  <tbody>\n",
       "    <tr>\n",
       "      <th>0</th>\n",
       "      <td>409414</td>\n",
       "      <td>.</td>\n",
       "      <td>5774169366</td>\n",
       "      <td>-1</td>\n",
       "      <td>2023</td>\n",
       "      <td>3</td>\n",
       "      <td>7</td>\n",
       "      <td>13</td>\n",
       "      <td>48</td>\n",
       "      <td>25</td>\n",
       "    </tr>\n",
       "    <tr>\n",
       "      <th>1</th>\n",
       "      <td>409427</td>\n",
       "      <td>حواره للخارج من نابلس ؟</td>\n",
       "      <td>325418964</td>\n",
       "      <td>-1</td>\n",
       "      <td>2023</td>\n",
       "      <td>3</td>\n",
       "      <td>7</td>\n",
       "      <td>13</td>\n",
       "      <td>50</td>\n",
       "      <td>2</td>\n",
       "    </tr>\n",
       "    <tr>\n",
       "      <th>2</th>\n",
       "      <td>409428</td>\n",
       "      <td>سالك سالك</td>\n",
       "      <td>1827882971</td>\n",
       "      <td>409427</td>\n",
       "      <td>2023</td>\n",
       "      <td>3</td>\n",
       "      <td>7</td>\n",
       "      <td>13</td>\n",
       "      <td>50</td>\n",
       "      <td>9</td>\n",
       "    </tr>\n",
       "    <tr>\n",
       "      <th>3</th>\n",
       "      <td>409429</td>\n",
       "      <td>حوارة في عليها مستوطنين</td>\n",
       "      <td>5633332941</td>\n",
       "      <td>-1</td>\n",
       "      <td>2023</td>\n",
       "      <td>3</td>\n",
       "      <td>7</td>\n",
       "      <td>13</td>\n",
       "      <td>50</td>\n",
       "      <td>18</td>\n",
       "    </tr>\n",
       "    <tr>\n",
       "      <th>4</th>\n",
       "      <td>409430</td>\n",
       "      <td>وين</td>\n",
       "      <td>1332172310</td>\n",
       "      <td>409429</td>\n",
       "      <td>2023</td>\n",
       "      <td>3</td>\n",
       "      <td>7</td>\n",
       "      <td>13</td>\n",
       "      <td>50</td>\n",
       "      <td>26</td>\n",
       "    </tr>\n",
       "  </tbody>\n",
       "</table>\n",
       "</div>"
      ],
      "text/plain": [
       "       id                  message     from_id  reply_to  year  month  day  \\\n",
       "0  409414                        .  5774169366        -1  2023      3    7   \n",
       "1  409427  حواره للخارج من نابلس ؟   325418964        -1  2023      3    7   \n",
       "2  409428                سالك سالك  1827882971    409427  2023      3    7   \n",
       "3  409429  حوارة في عليها مستوطنين  5633332941        -1  2023      3    7   \n",
       "4  409430                      وين  1332172310    409429  2023      3    7   \n",
       "\n",
       "   hour  minute  second  \n",
       "0    13      48      25  \n",
       "1    13      50       2  \n",
       "2    13      50       9  \n",
       "3    13      50      18  \n",
       "4    13      50      26  "
      ]
     },
     "execution_count": 5,
     "metadata": {},
     "output_type": "execute_result"
    }
   ],
   "source": [
    "data.head()"
   ]
  },
  {
   "attachments": {},
   "cell_type": "markdown",
   "metadata": {},
   "source": [
    "### Remove Arabic diacritics"
   ]
  },
  {
   "cell_type": "code",
   "execution_count": 6,
   "metadata": {},
   "outputs": [],
   "source": [
    "def remove_diacritics(text: str) -> str:\n",
    "    \"\"\"\n",
    "    Remove diacritics from Arabic text and reshape it to proper Arabic script.\n",
    "\n",
    "    Args:\n",
    "        text (str): The input Arabic text.\n",
    "\n",
    "    Returns:\n",
    "        str: The Arabic text with diacritics removed and reshaped to proper Arabic script.\n",
    "    \"\"\"\n",
    "    if isinstance(text, str):\n",
    "        # Normalize the text\n",
    "        text = normalize_hamza(text)\n",
    "        # Remove diacritics using regex\n",
    "        diacritic_pattern = re.compile(\"[ًٌٍَُِّْ]+\")\n",
    "        text_without_diacritics = diacritic_pattern.sub(\"\", text)\n",
    "        # Reshape the text to proper Arabic script\n",
    "        reshaped_text = \"\"\n",
    "        for i, char in enumerate(text_without_diacritics):\n",
    "            if is_arabicrange(char):\n",
    "                if is_tashkeel(char):\n",
    "                    reshaped_text += char\n",
    "                else:\n",
    "                    reshaped_text += strip_tashkeel(char)\n",
    "            else:\n",
    "                reshaped_text += char\n",
    "        return reshaped_text\n",
    "    else:\n",
    "        return text\n"
   ]
  },
  {
   "cell_type": "code",
   "execution_count": 7,
   "metadata": {},
   "outputs": [
    {
     "data": {
      "text/plain": [
       "'مرحبا حوارة للءسف مغلقة اليوم'"
      ]
     },
     "execution_count": 7,
     "metadata": {},
     "output_type": "execute_result"
    }
   ],
   "source": [
    "remove_diacritics(\"مرحباً حوارة للأسف مغلقةٌ اليَوم\")"
   ]
  },
  {
   "attachments": {},
   "cell_type": "markdown",
   "metadata": {},
   "source": [
    "### Convert Emojis and Emoticons"
   ]
  },
  {
   "cell_type": "code",
   "execution_count": 8,
   "metadata": {},
   "outputs": [],
   "source": [
    "def convert_emojis(text: str) -> str:\n",
    "    \"\"\"\n",
    "    Convert emojis in text to their corresponding text representation.\n",
    "\n",
    "    Args:\n",
    "        text (str): The input text with emojis.\n",
    "\n",
    "    Returns:\n",
    "        str: The input text with emojis replaced by their corresponding text representation.\n",
    "    \"\"\"\n",
    "    return emoji.demojize(text)"
   ]
  },
  {
   "cell_type": "code",
   "execution_count": 9,
   "metadata": {},
   "outputs": [
    {
     "data": {
      "text/plain": [
       "':clown_face: ههه'"
      ]
     },
     "execution_count": 9,
     "metadata": {},
     "output_type": "execute_result"
    }
   ],
   "source": [
    "convert_emojis(\"🤡 ههه\")"
   ]
  },
  {
   "cell_type": "code",
   "execution_count": 10,
   "metadata": {},
   "outputs": [],
   "source": [
    "def convert_emoticons(text: str) -> str:\n",
    "    \"\"\"\n",
    "    Convert emoticons in text to their corresponding text representation.\n",
    "\n",
    "    Args:\n",
    "        text (str): The input text with emoticons.\n",
    "\n",
    "    Returns:\n",
    "        str: The input text with emoticons replaced by their corresponding text representation.\n",
    "    \"\"\"\n",
    "    emo_obj = emot.EMOTICONS_EMO\n",
    "    for emot1 in emo_obj:\n",
    "        escaped_emot = re.escape(emot1)\n",
    "        text = re.sub(u'({})'.format(escaped_emot), \"_\".join(emo_obj[emot1].replace(\",\",\"\").split()), text)\n",
    "    return text"
   ]
  },
  {
   "cell_type": "code",
   "execution_count": 11,
   "metadata": {},
   "outputs": [
    {
     "data": {
      "text/plain": [
       "'Joyful وه'"
      ]
     },
     "execution_count": 11,
     "metadata": {},
     "output_type": "execute_result"
    }
   ],
   "source": [
    "convert_emoticons(\"^_^ وه\")"
   ]
  },
  {
   "attachments": {},
   "cell_type": "markdown",
   "metadata": {},
   "source": [
    "### Remove links"
   ]
  },
  {
   "cell_type": "code",
   "execution_count": 12,
   "metadata": {},
   "outputs": [],
   "source": [
    "def remove_urls(text: str) -> str:\n",
    "    \"\"\"\n",
    "    Remove URLs from text.\n",
    "\n",
    "    Args:\n",
    "        text (str): The input text with URLs.\n",
    "\n",
    "    Returns:\n",
    "        str: The input text with URLs removed.\n",
    "    \"\"\"\n",
    "    url_pattern = re.compile(r'https?://\\S+|www\\.\\S+')\n",
    "    return url_pattern.sub(r'', text)"
   ]
  },
  {
   "cell_type": "code",
   "execution_count": 13,
   "metadata": {},
   "outputs": [
    {
     "data": {
      "text/plain": [
       "'اللينك '"
      ]
     },
     "execution_count": 13,
     "metadata": {},
     "output_type": "execute_result"
    }
   ],
   "source": [
    "remove_urls(\"اللينك https://hellooos.com\")"
   ]
  },
  {
   "attachments": {},
   "cell_type": "markdown",
   "metadata": {},
   "source": [
    "### Remove Phone Numbers"
   ]
  },
  {
   "cell_type": "code",
   "execution_count": 14,
   "metadata": {},
   "outputs": [],
   "source": [
    "def remove_phone_numbers(text: str) -> str:\n",
    "    \"\"\"\n",
    "    Remove phone numbers from text.\n",
    "\n",
    "    Args:\n",
    "        text (str): The input text with phone numbers.\n",
    "\n",
    "    Returns:\n",
    "        str: The input text with phone numbers removed.\n",
    "    \"\"\"\n",
    "    text = re.sub(r'(\\+?\\d{2,4}[ -]?)?\\d{9,10}', '', text)\n",
    "    return text"
   ]
  },
  {
   "cell_type": "code",
   "execution_count": 15,
   "metadata": {},
   "outputs": [
    {
     "data": {
      "text/plain": [
       "'هاي, my phone number is . You can also reach me at  or .'"
      ]
     },
     "execution_count": 15,
     "metadata": {},
     "output_type": "execute_result"
    }
   ],
   "source": [
    "remove_phone_numbers(\"هاي, my phone number is +971-551234567. You can also reach me at 00971551234567 or 0551234567.\")"
   ]
  },
  {
   "attachments": {},
   "cell_type": "markdown",
   "metadata": {},
   "source": [
    "### Remove Punctuations"
   ]
  },
  {
   "cell_type": "code",
   "execution_count": 16,
   "metadata": {},
   "outputs": [],
   "source": [
    "PUNCT_TO_REMOVE = string.punctuation + '؛،؟«»٪٫٬٭'\n",
    "def remove_punctuations(text: str) -> str:\n",
    "     \"\"\"\n",
    "     Remove punctuations from text.\n",
    "\n",
    "     Args:\n",
    "          text (str): The input text with punctuations.\n",
    "\n",
    "     Returns:\n",
    "          str: The input text with punctuations removed.\n",
    "     \"\"\"\n",
    "     return text.translate(str.maketrans('', '', PUNCT_TO_REMOVE))"
   ]
  },
  {
   "cell_type": "code",
   "execution_count": 17,
   "metadata": {},
   "outputs": [
    {
     "data": {
      "text/plain": [
       "'حسنا يا الهي   هذا رائع'"
      ]
     },
     "execution_count": 17,
     "metadata": {},
     "output_type": "execute_result"
    }
   ],
   "source": [
    "remove_punctuations(\"حسنا، يا الهي! ؟ ? هذا رائع.\")"
   ]
  },
  {
   "attachments": {},
   "cell_type": "markdown",
   "metadata": {},
   "source": [
    "### Remove MultiMedia"
   ]
  },
  {
   "cell_type": "code",
   "execution_count": 18,
   "metadata": {},
   "outputs": [],
   "source": [
    "def remove_multimedia(text: str) -> str:\n",
    "    \"\"\"\n",
    "    Remove multimedia (images, videos, etc.) from text.\n",
    "\n",
    "    Args:\n",
    "        text (str): The input text with multimedia.\n",
    "\n",
    "    Returns:\n",
    "        str: The input text with multimedia removed.\n",
    "    \"\"\"\n",
    "    text = re.sub(r'http\\S+', '', text)\n",
    "    text = re.sub(r'pic\\.twitter\\.com/\\S+', '', text)\n",
    "    text = re.sub(r'@(\\w+)', '', text)\n",
    "    return text"
   ]
  },
  {
   "attachments": {},
   "cell_type": "markdown",
   "metadata": {},
   "source": [
    "### Apply the cleaning process to the messages. and delete empty messages from the df"
   ]
  },
  {
   "cell_type": "code",
   "execution_count": 19,
   "metadata": {},
   "outputs": [],
   "source": [
    "for i, row in data.iterrows():\n",
    "    if isinstance(row[\"message\"], float):  # check if value is float\n",
    "        data.at[i, \"message\"] = \"\"  # convert float to empty string\n",
    "    else:\n",
    "        text = row[\"message\"]\n",
    "        # apply cleaning functions to the text\n",
    "        text = remove_diacritics(text)\n",
    "        text = convert_emojis(text)\n",
    "        text = convert_emoticons(text)\n",
    "        text = remove_urls(text)\n",
    "        text = remove_phone_numbers(text)\n",
    "        text = remove_punctuations(text)\n",
    "        text = remove_multimedia(text)\n",
    "        if text == \"\":  # check if cleaned text is empty\n",
    "            data = data.drop(i)  # delete row if cleaned text is empty\n",
    "        else:\n",
    "            data.at[i, \"message\"] = text  # store the cleaned text back in the dataframe"
   ]
  },
  {
   "cell_type": "code",
   "execution_count": 20,
   "metadata": {},
   "outputs": [
    {
     "data": {
      "text/plain": [
       "1             حواره للخارج من نابلس \n",
       "2                          سالك سالك\n",
       "3            حوارة في عليها مستوطنين\n",
       "4                                وين\n",
       "5        كيف طريق من طوباس لرام الله\n",
       "                    ...             \n",
       "17301                   كيف طريق صرة\n",
       "17302                  و دوار كدوميم\n",
       "17303                     شو وضع dso\n",
       "17304                  جيت صرة سالكة\n",
       "17305                 واد قانا سالك \n",
       "Name: message, Length: 16880, dtype: object"
      ]
     },
     "execution_count": 20,
     "metadata": {},
     "output_type": "execute_result"
    }
   ],
   "source": [
    "data[\"message\"]"
   ]
  },
  {
   "cell_type": "code",
   "execution_count": null,
   "metadata": {},
   "outputs": [],
   "source": []
  }
 ],
 "metadata": {
  "kernelspec": {
   "display_name": "Python 3",
   "language": "python",
   "name": "python3"
  },
  "language_info": {
   "codemirror_mode": {
    "name": "ipython",
    "version": 3
   },
   "file_extension": ".py",
   "mimetype": "text/x-python",
   "name": "python",
   "nbconvert_exporter": "python",
   "pygments_lexer": "ipython3",
   "version": "3.10.10"
  },
  "orig_nbformat": 4
 },
 "nbformat": 4,
 "nbformat_minor": 2
}
