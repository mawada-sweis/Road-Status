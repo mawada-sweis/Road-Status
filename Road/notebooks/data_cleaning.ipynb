{
 "cells": [
  {
   "attachments": {},
   "cell_type": "markdown",
   "metadata": {},
   "source": [
    "## Data Cleaning"
   ]
  },
  {
   "cell_type": "code",
   "execution_count": 2,
   "metadata": {},
   "outputs": [],
   "source": [
    "# import needed libraries\n",
    "import pandas as pd \n",
    "\n",
    "# Local imports\n",
    "# from source.constants import PUNCT_TO_REMOVE\n",
    "import sys\n",
    "import os\n",
    "target = os.path.abspath(os.path.abspath(''))\n",
    "while(target.split(\"\\\\\")[-1]!=\"Road\"):\n",
    "    target = os.path.dirname(target)\n",
    "sys.path.append(target)\n",
    "from source.features import data_cleaning as DC"
   ]
  },
  {
   "cell_type": "code",
   "execution_count": 3,
   "metadata": {},
   "outputs": [],
   "source": [
    "# read data\n",
    "data = pd.read_csv(\"../data/interim/feature_selected.csv\")"
   ]
  },
  {
   "cell_type": "code",
   "execution_count": 4,
   "metadata": {},
   "outputs": [
    {
     "data": {
      "text/plain": [
       "(17306, 10)"
      ]
     },
     "execution_count": 4,
     "metadata": {},
     "output_type": "execute_result"
    }
   ],
   "source": [
    "data.shape"
   ]
  },
  {
   "cell_type": "code",
   "execution_count": 5,
   "metadata": {},
   "outputs": [
    {
     "data": {
      "text/html": [
       "<div>\n",
       "<style scoped>\n",
       "    .dataframe tbody tr th:only-of-type {\n",
       "        vertical-align: middle;\n",
       "    }\n",
       "\n",
       "    .dataframe tbody tr th {\n",
       "        vertical-align: top;\n",
       "    }\n",
       "\n",
       "    .dataframe thead th {\n",
       "        text-align: right;\n",
       "    }\n",
       "</style>\n",
       "<table border=\"1\" class=\"dataframe\">\n",
       "  <thead>\n",
       "    <tr style=\"text-align: right;\">\n",
       "      <th></th>\n",
       "      <th>id</th>\n",
       "      <th>message</th>\n",
       "      <th>from_id</th>\n",
       "      <th>reply_to</th>\n",
       "      <th>year</th>\n",
       "      <th>month</th>\n",
       "      <th>day</th>\n",
       "      <th>hour</th>\n",
       "      <th>minute</th>\n",
       "      <th>second</th>\n",
       "    </tr>\n",
       "  </thead>\n",
       "  <tbody>\n",
       "    <tr>\n",
       "      <th>0</th>\n",
       "      <td>409414</td>\n",
       "      <td>.</td>\n",
       "      <td>5774169366</td>\n",
       "      <td>-1</td>\n",
       "      <td>2023</td>\n",
       "      <td>3</td>\n",
       "      <td>7</td>\n",
       "      <td>13</td>\n",
       "      <td>48</td>\n",
       "      <td>25</td>\n",
       "    </tr>\n",
       "    <tr>\n",
       "      <th>1</th>\n",
       "      <td>409427</td>\n",
       "      <td>حواره للخارج من نابلس ؟</td>\n",
       "      <td>325418964</td>\n",
       "      <td>-1</td>\n",
       "      <td>2023</td>\n",
       "      <td>3</td>\n",
       "      <td>7</td>\n",
       "      <td>13</td>\n",
       "      <td>50</td>\n",
       "      <td>2</td>\n",
       "    </tr>\n",
       "    <tr>\n",
       "      <th>2</th>\n",
       "      <td>409428</td>\n",
       "      <td>سالك سالك</td>\n",
       "      <td>1827882971</td>\n",
       "      <td>409427</td>\n",
       "      <td>2023</td>\n",
       "      <td>3</td>\n",
       "      <td>7</td>\n",
       "      <td>13</td>\n",
       "      <td>50</td>\n",
       "      <td>9</td>\n",
       "    </tr>\n",
       "    <tr>\n",
       "      <th>3</th>\n",
       "      <td>409429</td>\n",
       "      <td>حوارة في عليها مستوطنين</td>\n",
       "      <td>5633332941</td>\n",
       "      <td>-1</td>\n",
       "      <td>2023</td>\n",
       "      <td>3</td>\n",
       "      <td>7</td>\n",
       "      <td>13</td>\n",
       "      <td>50</td>\n",
       "      <td>18</td>\n",
       "    </tr>\n",
       "    <tr>\n",
       "      <th>4</th>\n",
       "      <td>409430</td>\n",
       "      <td>وين</td>\n",
       "      <td>1332172310</td>\n",
       "      <td>409429</td>\n",
       "      <td>2023</td>\n",
       "      <td>3</td>\n",
       "      <td>7</td>\n",
       "      <td>13</td>\n",
       "      <td>50</td>\n",
       "      <td>26</td>\n",
       "    </tr>\n",
       "  </tbody>\n",
       "</table>\n",
       "</div>"
      ],
      "text/plain": [
       "       id                  message     from_id  reply_to  year  month  day  \\\n",
       "0  409414                        .  5774169366        -1  2023      3    7   \n",
       "1  409427  حواره للخارج من نابلس ؟   325418964        -1  2023      3    7   \n",
       "2  409428                سالك سالك  1827882971    409427  2023      3    7   \n",
       "3  409429  حوارة في عليها مستوطنين  5633332941        -1  2023      3    7   \n",
       "4  409430                      وين  1332172310    409429  2023      3    7   \n",
       "\n",
       "   hour  minute  second  \n",
       "0    13      48      25  \n",
       "1    13      50       2  \n",
       "2    13      50       9  \n",
       "3    13      50      18  \n",
       "4    13      50      26  "
      ]
     },
     "execution_count": 5,
     "metadata": {},
     "output_type": "execute_result"
    }
   ],
   "source": [
    "data.head()"
   ]
  },
  {
   "attachments": {},
   "cell_type": "markdown",
   "metadata": {},
   "source": [
    "### Apply the cleaning process to the messages"
   ]
  },
  {
   "cell_type": "code",
   "execution_count": 6,
   "metadata": {},
   "outputs": [],
   "source": [
    "# apply the clean_data function to the 'message' column using apply\n",
    "data['message'] = data.apply(DC.clean_data, axis=1)\n",
    "\n",
    "# drop any rows where the 'message' column is empty\n",
    "data = data.dropna(subset=['message'])"
   ]
  },
  {
   "cell_type": "code",
   "execution_count": 7,
   "metadata": {},
   "outputs": [
    {
     "data": {
      "text/html": [
       "<div>\n",
       "<style scoped>\n",
       "    .dataframe tbody tr th:only-of-type {\n",
       "        vertical-align: middle;\n",
       "    }\n",
       "\n",
       "    .dataframe tbody tr th {\n",
       "        vertical-align: top;\n",
       "    }\n",
       "\n",
       "    .dataframe thead th {\n",
       "        text-align: right;\n",
       "    }\n",
       "</style>\n",
       "<table border=\"1\" class=\"dataframe\">\n",
       "  <thead>\n",
       "    <tr style=\"text-align: right;\">\n",
       "      <th></th>\n",
       "      <th>id</th>\n",
       "      <th>message</th>\n",
       "      <th>from_id</th>\n",
       "      <th>reply_to</th>\n",
       "      <th>year</th>\n",
       "      <th>month</th>\n",
       "      <th>day</th>\n",
       "      <th>hour</th>\n",
       "      <th>minute</th>\n",
       "      <th>second</th>\n",
       "    </tr>\n",
       "  </thead>\n",
       "  <tbody>\n",
       "    <tr>\n",
       "      <th>1</th>\n",
       "      <td>409427</td>\n",
       "      <td>حواره للخارج من نابلس ؟</td>\n",
       "      <td>325418964</td>\n",
       "      <td>-1</td>\n",
       "      <td>2023</td>\n",
       "      <td>3</td>\n",
       "      <td>7</td>\n",
       "      <td>13</td>\n",
       "      <td>50</td>\n",
       "      <td>2</td>\n",
       "    </tr>\n",
       "    <tr>\n",
       "      <th>2</th>\n",
       "      <td>409428</td>\n",
       "      <td>سالك سالك</td>\n",
       "      <td>1827882971</td>\n",
       "      <td>409427</td>\n",
       "      <td>2023</td>\n",
       "      <td>3</td>\n",
       "      <td>7</td>\n",
       "      <td>13</td>\n",
       "      <td>50</td>\n",
       "      <td>9</td>\n",
       "    </tr>\n",
       "    <tr>\n",
       "      <th>3</th>\n",
       "      <td>409429</td>\n",
       "      <td>حوارة في عليها مستوطنين</td>\n",
       "      <td>5633332941</td>\n",
       "      <td>-1</td>\n",
       "      <td>2023</td>\n",
       "      <td>3</td>\n",
       "      <td>7</td>\n",
       "      <td>13</td>\n",
       "      <td>50</td>\n",
       "      <td>18</td>\n",
       "    </tr>\n",
       "    <tr>\n",
       "      <th>4</th>\n",
       "      <td>409430</td>\n",
       "      <td>وين</td>\n",
       "      <td>1332172310</td>\n",
       "      <td>409429</td>\n",
       "      <td>2023</td>\n",
       "      <td>3</td>\n",
       "      <td>7</td>\n",
       "      <td>13</td>\n",
       "      <td>50</td>\n",
       "      <td>26</td>\n",
       "    </tr>\n",
       "    <tr>\n",
       "      <th>5</th>\n",
       "      <td>409431</td>\n",
       "      <td>كيف طريق من طوباس لرام الله</td>\n",
       "      <td>5661074759</td>\n",
       "      <td>-1</td>\n",
       "      <td>2023</td>\n",
       "      <td>3</td>\n",
       "      <td>7</td>\n",
       "      <td>13</td>\n",
       "      <td>50</td>\n",
       "      <td>35</td>\n",
       "    </tr>\n",
       "  </tbody>\n",
       "</table>\n",
       "</div>"
      ],
      "text/plain": [
       "       id                      message     from_id  reply_to  year  month  \\\n",
       "1  409427      حواره للخارج من نابلس ؟   325418964        -1  2023      3   \n",
       "2  409428                    سالك سالك  1827882971    409427  2023      3   \n",
       "3  409429      حوارة في عليها مستوطنين  5633332941        -1  2023      3   \n",
       "4  409430                          وين  1332172310    409429  2023      3   \n",
       "5  409431  كيف طريق من طوباس لرام الله  5661074759        -1  2023      3   \n",
       "\n",
       "   day  hour  minute  second  \n",
       "1    7    13      50       2  \n",
       "2    7    13      50       9  \n",
       "3    7    13      50      18  \n",
       "4    7    13      50      26  \n",
       "5    7    13      50      35  "
      ]
     },
     "execution_count": 7,
     "metadata": {},
     "output_type": "execute_result"
    }
   ],
   "source": [
    "data.head()"
   ]
  },
  {
   "cell_type": "code",
   "execution_count": 8,
   "metadata": {},
   "outputs": [
    {
     "data": {
      "text/plain": [
       "(17152, 10)"
      ]
     },
     "execution_count": 8,
     "metadata": {},
     "output_type": "execute_result"
    }
   ],
   "source": [
    "data.shape"
   ]
  },
  {
   "attachments": {},
   "cell_type": "markdown",
   "metadata": {},
   "source": [
    "### Map each message to its corresponding reply and delete any replies found.\n"
   ]
  },
  {
   "cell_type": "code",
   "execution_count": 9,
   "metadata": {},
   "outputs": [],
   "source": [
    "data = DC.map_reply_messages(data)"
   ]
  },
  {
   "cell_type": "code",
   "execution_count": 10,
   "metadata": {},
   "outputs": [
    {
     "data": {
      "text/html": [
       "<div>\n",
       "<style scoped>\n",
       "    .dataframe tbody tr th:only-of-type {\n",
       "        vertical-align: middle;\n",
       "    }\n",
       "\n",
       "    .dataframe tbody tr th {\n",
       "        vertical-align: top;\n",
       "    }\n",
       "\n",
       "    .dataframe thead th {\n",
       "        text-align: right;\n",
       "    }\n",
       "</style>\n",
       "<table border=\"1\" class=\"dataframe\">\n",
       "  <thead>\n",
       "    <tr style=\"text-align: right;\">\n",
       "      <th></th>\n",
       "      <th>id</th>\n",
       "      <th>message</th>\n",
       "      <th>from_id</th>\n",
       "      <th>reply_to</th>\n",
       "      <th>year</th>\n",
       "      <th>month</th>\n",
       "      <th>day</th>\n",
       "      <th>hour</th>\n",
       "      <th>minute</th>\n",
       "      <th>second</th>\n",
       "      <th>reply</th>\n",
       "    </tr>\n",
       "  </thead>\n",
       "  <tbody>\n",
       "    <tr>\n",
       "      <th>1</th>\n",
       "      <td>409427</td>\n",
       "      <td>حواره للخارج من نابلس ؟</td>\n",
       "      <td>325418964</td>\n",
       "      <td>-1</td>\n",
       "      <td>2023</td>\n",
       "      <td>3</td>\n",
       "      <td>7</td>\n",
       "      <td>13</td>\n",
       "      <td>50</td>\n",
       "      <td>2</td>\n",
       "      <td>سالك سالك</td>\n",
       "    </tr>\n",
       "    <tr>\n",
       "      <th>2</th>\n",
       "      <td>409428</td>\n",
       "      <td>سالك سالك</td>\n",
       "      <td>1827882971</td>\n",
       "      <td>409427</td>\n",
       "      <td>2023</td>\n",
       "      <td>3</td>\n",
       "      <td>7</td>\n",
       "      <td>13</td>\n",
       "      <td>50</td>\n",
       "      <td>9</td>\n",
       "      <td>NaN</td>\n",
       "    </tr>\n",
       "    <tr>\n",
       "      <th>3</th>\n",
       "      <td>409429</td>\n",
       "      <td>حوارة في عليها مستوطنين</td>\n",
       "      <td>5633332941</td>\n",
       "      <td>-1</td>\n",
       "      <td>2023</td>\n",
       "      <td>3</td>\n",
       "      <td>7</td>\n",
       "      <td>13</td>\n",
       "      <td>50</td>\n",
       "      <td>18</td>\n",
       "      <td>لا مافب</td>\n",
       "    </tr>\n",
       "    <tr>\n",
       "      <th>4</th>\n",
       "      <td>409430</td>\n",
       "      <td>وين</td>\n",
       "      <td>1332172310</td>\n",
       "      <td>409429</td>\n",
       "      <td>2023</td>\n",
       "      <td>3</td>\n",
       "      <td>7</td>\n",
       "      <td>13</td>\n",
       "      <td>50</td>\n",
       "      <td>26</td>\n",
       "      <td>NaN</td>\n",
       "    </tr>\n",
       "    <tr>\n",
       "      <th>5</th>\n",
       "      <td>409431</td>\n",
       "      <td>كيف طريق من طوباس لرام الله</td>\n",
       "      <td>5661074759</td>\n",
       "      <td>-1</td>\n",
       "      <td>2023</td>\n",
       "      <td>3</td>\n",
       "      <td>7</td>\n",
       "      <td>13</td>\n",
       "      <td>50</td>\n",
       "      <td>35</td>\n",
       "      <td>NaN</td>\n",
       "    </tr>\n",
       "  </tbody>\n",
       "</table>\n",
       "</div>"
      ],
      "text/plain": [
       "       id                      message     from_id  reply_to  year  month  \\\n",
       "1  409427      حواره للخارج من نابلس ؟   325418964        -1  2023      3   \n",
       "2  409428                    سالك سالك  1827882971    409427  2023      3   \n",
       "3  409429      حوارة في عليها مستوطنين  5633332941        -1  2023      3   \n",
       "4  409430                          وين  1332172310    409429  2023      3   \n",
       "5  409431  كيف طريق من طوباس لرام الله  5661074759        -1  2023      3   \n",
       "\n",
       "   day  hour  minute  second      reply  \n",
       "1    7    13      50       2  سالك سالك  \n",
       "2    7    13      50       9        NaN  \n",
       "3    7    13      50      18    لا مافب  \n",
       "4    7    13      50      26        NaN  \n",
       "5    7    13      50      35        NaN  "
      ]
     },
     "execution_count": 10,
     "metadata": {},
     "output_type": "execute_result"
    }
   ],
   "source": [
    "data.head()"
   ]
  },
  {
   "cell_type": "code",
   "execution_count": 11,
   "metadata": {},
   "outputs": [
    {
     "data": {
      "text/plain": [
       "(17152, 11)"
      ]
     },
     "execution_count": 11,
     "metadata": {},
     "output_type": "execute_result"
    }
   ],
   "source": [
    "data.shape"
   ]
  },
  {
   "cell_type": "code",
   "execution_count": 12,
   "metadata": {},
   "outputs": [],
   "source": [
    "data.drop(columns=\"reply_to\", axis=1, inplace=True)"
   ]
  },
  {
   "cell_type": "code",
   "execution_count": 13,
   "metadata": {},
   "outputs": [],
   "source": [
    "data.to_csv(\"../data/interim/cleaned_data.csv\")"
   ]
  },
  {
   "cell_type": "code",
   "execution_count": null,
   "metadata": {},
   "outputs": [],
   "source": []
  }
 ],
 "metadata": {
  "kernelspec": {
   "display_name": "Python 3",
   "language": "python",
   "name": "python3"
  },
  "language_info": {
   "codemirror_mode": {
    "name": "ipython",
    "version": 3
   },
   "file_extension": ".py",
   "mimetype": "text/x-python",
   "name": "python",
   "nbconvert_exporter": "python",
   "pygments_lexer": "ipython3",
   "version": "3.10.10"
  },
  "orig_nbformat": 4
 },
 "nbformat": 4,
 "nbformat_minor": 2
}
